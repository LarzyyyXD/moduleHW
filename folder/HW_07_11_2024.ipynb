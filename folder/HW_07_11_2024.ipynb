{
 "cells": [
  {
   "cell_type": "markdown",
   "metadata": {},
   "source": [
    "Создайте модуль \"shopping_list.py\", который будет реализовывать функционал списка покупок. Внутри должны быть функции add_item (для добавления в список, например «Хлеб, 2», где «Хлеб» - ключ, «2» - значение, которой по умолчанию в функции равно 0), remove_item для удаления покупки из списка, edit_quantity для редактирования количества (то есть значения), view_list для отображения всего списка (то есть словаря). Создайте новый файл, куда вы импортируете созданный модуль и отобразите работу каждый из этих функций. Например, пользователь сначала добавил в список три покупки: Хлеб – 2, Молоко, Яйца – 10, далее посмотрел этот список; потом он понял, что не хочет молоко, удалил его, посмотрел измененный список; потом решил, что 10 яиц – это много, и поменял их количество на 7 и в конце решил посмотреть на итоговый список."
   ]
  },
  {
   "cell_type": "code",
   "execution_count": 1,
   "metadata": {},
   "outputs": [
    {
     "name": "stdout",
     "output_type": "stream",
     "text": [
      "Список покупок после добавления:\n",
      "{'Хлеб': 2, 'Молоко': 1, 'Яйца': 10}\n",
      "nСписок покупок после удаления молока:\n",
      "{'Хлеб': 2, 'Яйца': 10}\n",
      "nИтоговый список покупок:\n",
      "{'Хлеб': 2, 'Яйца': 7}\n"
     ]
    }
   ],
   "source": [
    "from shopping_list import add_item, remove_item, edit_quantity, view_list\n",
    "\n",
    "add_item(\"Хлеб\", 2)\n",
    "add_item(\"Молоко\", 1)\n",
    "add_item(\"Яйца\", 10)\n",
    "\n",
    "print(\"Список покупок после добавления:\")\n",
    "print(view_list())\n",
    "\n",
    "remove_item(\"Молоко\")\n",
    "\n",
    "print(\"Список покупок после удаления молока:\")\n",
    "print(view_list())\n",
    "\n",
    "edit_quantity(\"Яйца\", 7)\n",
    "\n",
    "print(\"Итоговый список покупок:\")\n",
    "print(view_list())"
   ]
  }
 ],
 "metadata": {
  "kernelspec": {
   "display_name": "Python 3",
   "language": "python",
   "name": "python3"
  },
  "language_info": {
   "codemirror_mode": {
    "name": "ipython",
    "version": 3
   },
   "file_extension": ".py",
   "mimetype": "text/x-python",
   "name": "python",
   "nbconvert_exporter": "python",
   "pygments_lexer": "ipython3",
   "version": "3.12.6"
  }
 },
 "nbformat": 4,
 "nbformat_minor": 2
}
